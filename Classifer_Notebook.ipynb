{
 "cells": [
  {
   "cell_type": "code",
   "execution_count": 1,
   "metadata": {},
   "outputs": [],
   "source": [
    "import numpy as np\n",
    "import nltk\n",
    "import os\n",
    "from sklearn.linear_model import LogisticRegression"
   ]
  },
  {
   "cell_type": "code",
   "execution_count": 2,
   "metadata": {},
   "outputs": [
    {
     "name": "stdout",
     "output_type": "stream",
     "text": [
      "['java', 'programming', 'data', 'epub']\n",
      "[1]\n"
     ]
    }
   ],
   "source": [
    "def prepare_data(filenames, Y, bag, dir_name):\n",
    "    tokenizer = nltk.RegexpTokenizer(r\"\\w+\")\n",
    "    counter = 1\n",
    "    for k, v in bag.items():\n",
    "        bag[k] = counter\n",
    "        counter+=1\n",
    "    X = np.zeros((len(filenames), len(bag)))\n",
    "    for i in range(len(filenames)):\n",
    "        words = tokenizer.tokenize(filenames[i])\n",
    "        X[i,:] = np.array([int(b in words) for b in bag])\n",
    "    return X,Y\n",
    "\n",
    "def read_dir(dir_name):\n",
    "    filenames = []\n",
    "    Y = []\n",
    "    tokenizer = nltk.RegexpTokenizer(r\"\\w+\")\n",
    "    bag_of_words = set([])\n",
    "    for root, subdirs, files in os.walk(dir_name):\n",
    "        for f in files:\n",
    "            if f.endswith(\".pdf\") or f.endswith(\".epub\") or f.endswith(\".mp3\") or f.endswith(\".flac\"):\n",
    "                full_path = os.path.join(root, f)\n",
    "                if full_path.startswith(dir_name + \"/books\"):\n",
    "                    Y.append(1)\n",
    "                else:\n",
    "                    Y.append(0)\n",
    "                filenames.append(f.lower())\n",
    "                words = tokenizer.tokenize(f)\n",
    "                bag_of_words.update(words)\n",
    "\n",
    "    return filenames, Y, dict.fromkeys(bag_of_words,1)\n"
   ]
  },
  {
   "cell_type": "code",
   "execution_count": 7,
   "metadata": {},
   "outputs": [
    {
     "name": "stdout",
     "output_type": "stream",
     "text": [
      "['java', 'programming', 'data', 'pdf']\n",
      "[1]\n"
     ]
    }
   ],
   "source": [
    "\n",
    "dir_name = \"/Users/sergey/Downloads/test\"\n",
    "filenames, Y,  bag = read_dir(dir_name)\n",
    "X,Y = prepare_data(filenames, Y, bag, dir_name)\n",
    "\n",
    "cls = LogisticRegression(multi_class=\"multinomial\")\n",
    "cls.fit(X,Y)\n",
    "\n",
    "\n",
    "file_name = \"Java Programming Data.pdf\".lower()\n",
    "tokenizer = nltk.RegexpTokenizer(r\"\\w+\")\n",
    "words = tokenizer.tokenize(file_name)\n",
    "print(words)\n",
    "x = np.array([int(b in words) for b in bag])\n",
    "\n",
    "print(cls.predict(x.reshape(1,-1)))\n",
    "\n"
   ]
  },
  {
   "cell_type": "code",
   "execution_count": null,
   "metadata": {},
   "outputs": [],
   "source": []
  }
 ],
 "metadata": {
  "kernelspec": {
   "display_name": "Python 3",
   "language": "python",
   "name": "python3"
  },
  "language_info": {
   "codemirror_mode": {
    "name": "ipython",
    "version": 3
   },
   "file_extension": ".py",
   "mimetype": "text/x-python",
   "name": "python",
   "nbconvert_exporter": "python",
   "pygments_lexer": "ipython3",
   "version": "3.9.2"
  }
 },
 "nbformat": 4,
 "nbformat_minor": 4
}
